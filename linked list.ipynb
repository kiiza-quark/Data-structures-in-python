{
 "cells": [
  {
   "cell_type": "code",
   "execution_count": null,
   "metadata": {},
   "outputs": [],
   "source": [
    "class Node:\n",
    "    def __init__(self, data) -> None:\n",
    "        self.data = data\n",
    "        self.next = None\n",
    "\n",
    "    def __repr__(self) -> str:\n",
    "        return f\"data: {self.data}, next -> : {self.next}\"\n",
    "class LinkedList:\n",
    "\n",
    "    def __init__(self) -> None:\n",
    "        self.head = None"
   ]
  }
 ],
 "metadata": {
  "language_info": {
   "name": "python"
  },
  "orig_nbformat": 4
 },
 "nbformat": 4,
 "nbformat_minor": 2
}
