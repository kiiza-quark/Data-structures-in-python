{
 "cells": [
  {
   "cell_type": "markdown",
   "metadata": {},
   "source": [
    "## STACK\n",
    "\n",
    "#### Basic Operations of Stack\n",
    "There are some basic operations that allow us to perform different actions on a stack.\n",
    "  - `Push:` Add an element to the top of a stack\n",
    "  - `Pop:` Remove an element from the top of a stack\n",
    "  - `IsEmpty:` Check if the stack is empty\n",
    "  - `IsFull:` Check if the stack is full\n",
    "  - `Peek:` Get the value of the top element without removing it"
   ]
  },
  {
   "cell_type": "code",
   "execution_count": 1,
   "metadata": {},
   "outputs": [
    {
     "name": "stdout",
     "output_type": "stream",
     "text": [
      "[1, 2, 3, 4]\n",
      "4\n",
      "[1, 2, 3]\n",
      "3\n",
      "3\n"
     ]
    }
   ],
   "source": [
    "class Stack:\n",
    "    def __init__(self):\n",
    "        self.stack = list()\n",
    "\n",
    "    # check if the stack is empty\n",
    "    def isEmpty(self):\n",
    "        return len(self.stack) == 0\n",
    "\n",
    "    def push(self, data):\n",
    "        # push element on the stack\n",
    "        self.stack.append(data)\n",
    "\n",
    "    # Use peek to look at the top of the stack\n",
    "    def peek(self):\n",
    "        return self.stack[-1]\n",
    "\n",
    "    def pop(self):\n",
    "        # pop element from the stack\n",
    "        if self.isEmpty():\n",
    "            return (\"Stack is empty. Stack Underflow :(\")\n",
    "        return self.stack.pop()\n",
    "\n",
    "    def size(self):\n",
    "        return len(self.stack)\n",
    "\n",
    "    def show(self):\n",
    "        return self.stack\n",
    "\n",
    "s = Stack()\n",
    "s.push(1)\n",
    "s.push(2)\n",
    "s.push(3)\n",
    "s.push(4)\n",
    "print(s.show())\n",
    "print(s.pop())\n",
    "print(s.show())\n",
    "print(s.peek())\n",
    "print(s.size())"
   ]
  },
  {
   "cell_type": "markdown",
   "metadata": {},
   "source": [
    "#### Applications of Stack Data Structure\n",
    "Stacks are used in many applications. Some of them are:\n",
    "  - `Balancing of symbols:` In compilers, the parentheses, braces, and brackets are checked for their matching. This can be easily done using a stack.\n",
    "  - `Infix to Postfix Conversion:` In compilers, the infix expression is converted to postfix expression. This too can be done using a stack.\n",
    "  - `Undo mechanism in editors:` The undo mechanism in editors like Microsoft Word can be easily implemented using a stack.\n",
    "  - `Forward and backward feature in web browsers:` The forward and backward feature in web browsers store the history of visited pages. This too can be implemented using a stack.\n",
    "  - `Used in many algorithms like Tower of Hanoi, tree traversals, stock span problem, histogram problem.`\n",
    "  "
   ]
  }
 ],
 "metadata": {
  "kernelspec": {
   "display_name": "Python 3.10.7 64-bit",
   "language": "python",
   "name": "python3"
  },
  "language_info": {
   "codemirror_mode": {
    "name": "ipython",
    "version": 3
   },
   "file_extension": ".py",
   "mimetype": "text/x-python",
   "name": "python",
   "nbconvert_exporter": "python",
   "pygments_lexer": "ipython3",
   "version": "3.10.7"
  },
  "orig_nbformat": 4,
  "vscode": {
   "interpreter": {
    "hash": "df95319d8ce4e1d89f5365ae10992bc1f65da593082b1d264e8f529830ec2f02"
   }
  }
 },
 "nbformat": 4,
 "nbformat_minor": 2
}
