{
 "cells": [
  {
   "cell_type": "markdown",
   "metadata": {},
   "source": [
    "#### Basic Operations of Queue\n",
    "A queue is an object (an abstract data structure - ADT) that allows the following operations:\n",
    "  - `Enqueue:` Add an element to the end of the queue\n",
    "  - `Dequeue:` Remove an element from the front of the queue\n",
    "  - `IsEmpty:` Check if the queue is empty\n",
    "  - `IsFull:` Check if the queue is full\n",
    "  - `Peek:` Get the value of the front of the queue without removing it"
   ]
  },
  {
   "cell_type": "code",
   "execution_count": 10,
   "metadata": {},
   "outputs": [
    {
     "data": {
      "text/plain": [
       "'Queue is empty!'"
      ]
     },
     "execution_count": 10,
     "metadata": {},
     "output_type": "execute_result"
    }
   ],
   "source": [
    "class Queue:\n",
    "\n",
    "    def __init__(self) -> None:\n",
    "        self.items = []\n",
    "\n",
    "    def isEmpty(self) -> bool:\n",
    "        return self.items == []\n",
    "\n",
    "    def print_queue(self) -> list:\n",
    "        return self.items\n",
    "\n",
    "    def enqueue(self, item) -> None:\n",
    "        self.items.insert(0, item)\n",
    "    \n",
    "    def dequeue(self):\n",
    "        if self.isEmpty():\n",
    "            return \"Queue is empty!\" \n",
    "        self.items.pop()\n",
    "\n",
    "    def peek(self):\n",
    "        return self.items[-1]\n",
    "\n",
    "\n",
    "line = Queue()\n",
    "line.enqueue(10)\n",
    "line.enqueue(20)\n",
    "line.print_queue()\n",
    "line.enqueue(30)\n",
    "line.dequeue()\n",
    "line.dequeue()\n",
    "line.enqueue(\"kizzah\")\n",
    "line.print_queue()\n",
    "line.dequeue()\n",
    "line.dequeue()\n",
    "line.dequeue()\n"
   ]
  },
  {
   "cell_type": "code",
   "execution_count": 17,
   "metadata": {},
   "outputs": [
    {
     "name": "stdout",
     "output_type": "stream",
     "text": [
      "True\n",
      "['40']\n"
     ]
    }
   ],
   "source": [
    "queue = []\n",
    "\n",
    "def isEmpty() -> bool:\n",
    "    return len(queue) == 0\n",
    "\n",
    "def enqueue(item):\n",
    "    queue.insert(0, item)\n",
    "\n",
    "def dequeue():\n",
    "    if isEmpty():\n",
    "        return \"Queue is empty\"\n",
    "    return queue.pop()\n",
    "\n",
    "def peek():\n",
    "    if isEmpty():\n",
    "        return \"Queue is empty\"\n",
    "\n",
    "    return queue[-1]\n",
    "\n",
    "def print_queue():\n",
    "    print(queue)\n",
    "\n",
    "print(isEmpty())\n",
    "enqueue(\"kizzah\")\n",
    "enqueue(\"40\")\n",
    "\n",
    "peek()\n",
    "dequeue()\n",
    "peek()\n",
    "print_queue()"
   ]
  }
 ],
 "metadata": {
  "kernelspec": {
   "display_name": "Python 3.10.7 64-bit",
   "language": "python",
   "name": "python3"
  },
  "language_info": {
   "codemirror_mode": {
    "name": "ipython",
    "version": 3
   },
   "file_extension": ".py",
   "mimetype": "text/x-python",
   "name": "python",
   "nbconvert_exporter": "python",
   "pygments_lexer": "ipython3",
   "version": "3.10.7"
  },
  "orig_nbformat": 4,
  "vscode": {
   "interpreter": {
    "hash": "df95319d8ce4e1d89f5365ae10992bc1f65da593082b1d264e8f529830ec2f02"
   }
  }
 },
 "nbformat": 4,
 "nbformat_minor": 2
}
