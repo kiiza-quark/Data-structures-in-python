{
 "cells": [
  {
   "cell_type": "markdown",
   "metadata": {},
   "source": [
    "1. create a credit card class with the following attributes: card number, expiration date, and security code. Create a method that will print out the card number, expiration date, and security code. Create an instance of the class and call the method.\n"
   ]
  },
  {
   "cell_type": "code",
   "execution_count": 2,
   "metadata": {},
   "outputs": [
    {
     "name": "stdout",
     "output_type": "stream",
     "text": [
      "Card Number: 5588 8799 7877 4431\n",
      "Expiration date: 24/09/2023\n",
      "Security code: 678\n"
     ]
    }
   ],
   "source": [
    "class CreditCard:\n",
    "\n",
    "    def __init__(self, card_number: str, expiration_date: str, security_code: int) -> None:\n",
    "        self.card_number = card_number\n",
    "        self.expiration_date = expiration_date\n",
    "        self.security_code = security_code\n",
    "\n",
    "    def __repr__(self) -> str:\n",
    "        return f\"Card Number: {self.card_number}\\nExpiration date: {self.expiration_date}\\nSecurity code: {self.security_code}\"\n",
    "\n",
    "    def print_card(self) -> None:\n",
    "        print(f\"Card Number: {self.card_number}\\nExpiration date: {self.expiration_date}\\nSecurity code: {self.security_code}\")\n",
    "\n",
    "mastercard = CreditCard(\"5588 8799 7877 4431\", \"24/09/2023\", 678)\n",
    "mastercard.print_card()"
   ]
  },
  {
   "cell_type": "markdown",
   "metadata": {},
   "source": [
    "2. create Animal class and Dog class. Make the Dog class inherit from the Animal class. Add a bark method to the Dog class. Create an instance of the Dog class and call the bark method."
   ]
  },
  {
   "cell_type": "code",
   "execution_count": 3,
   "metadata": {},
   "outputs": [],
   "source": [
    "import winsound\n",
    "\n",
    "class Animal:\n",
    "    def __init__(self, name):\n",
    "        self.name = name\n",
    "\n",
    "class Dog(Animal):\n",
    "    def __init__(self, name, age):\n",
    "        Animal.__init__(self, name)\n",
    "        self.age = age\n",
    "\n",
    "    def bark(self) -> None:\n",
    "        winsound.PlaySound(\"bark\", winsound.SND_FILENAME)\n",
    "\n",
    "german_shepherd = Dog(\"german-shepherd\", 6)\n",
    "german_shepherd.bark()"
   ]
  },
  {
   "cell_type": "markdown",
   "metadata": {},
   "source": [
    "3. create a class called Queue. The class should have the following methods: enqueue, dequeue, and size. The enqueue method should add an item to the queue. The dequeue method should remove an item from the queue. The size method should return the size of the queue.\n"
   ]
  },
  {
   "cell_type": "code",
   "execution_count": 4,
   "metadata": {},
   "outputs": [
    {
     "name": "stdout",
     "output_type": "stream",
     "text": [
      "2\n",
      "1\n"
     ]
    }
   ],
   "source": [
    "class Queue:\n",
    "\n",
    "    def __init__(self) -> None:\n",
    "        self.items = []\n",
    "\n",
    "    def enqueue(self, item) -> None:\n",
    "        self.items.insert(0, item)\n",
    "\n",
    "    def dequeue(self) -> None:\n",
    "        if not self.items:\n",
    "            return \"Queue is empty\"\n",
    "        self.items.pop()\n",
    "\n",
    "    def size(self) -> int:\n",
    "        return len(self.items)\n",
    "\n",
    "queue = Queue()\n",
    "queue.enqueue(25)\n",
    "queue.enqueue(55)\n",
    "\n",
    "print(queue.size())\n",
    "queue.dequeue()\n",
    "print(queue.size())\n"
   ]
  },
  {
   "cell_type": "markdown",
   "metadata": {},
   "source": [
    "4. create a class called Stack. The class should have the following methods: push, pop, and size. The push method should add an item to the stack. The pop method should remove an item from the stack. The size method should return the size of the stack.\n"
   ]
  },
  {
   "cell_type": "code",
   "execution_count": 5,
   "metadata": {},
   "outputs": [
    {
     "name": "stdout",
     "output_type": "stream",
     "text": [
      "9\n",
      "9\n",
      "8\n"
     ]
    }
   ],
   "source": [
    "class Stack:\n",
    "    def __init__(self):\n",
    "        self.stack = []\n",
    "\n",
    "    def push(self, item) -> None:\n",
    "        self.stack.append(item)\n",
    "\n",
    "    def pop(self) -> None:\n",
    "        if self.stack:\n",
    "            return self.stack.pop()\n",
    "        else:\n",
    "            return None\n",
    "\n",
    "    def size(self) -> int:\n",
    "        return len(self.stack)\n",
    "\n",
    "stack = Stack()\n",
    "\n",
    "for i in range(1, 10):\n",
    "    stack.push(i)\n",
    "print(stack.size())\n",
    "\n",
    "print(stack.pop())\n",
    "print(stack.pop())\n"
   ]
  },
  {
   "cell_type": "markdown",
   "metadata": {},
   "source": [
    "5. create a class called Person. The class should have the following attributes: name, age, and address. The class should have the following methods: eat, sleep, and work. The eat method should print out the name of the person and the word \"is eating\". The sleep method should print out the name of the person and the word \"is sleeping\". The work method should print out the name of the person and the word \"is working\"."
   ]
  },
  {
   "cell_type": "code",
   "execution_count": 6,
   "metadata": {},
   "outputs": [
    {
     "name": "stdout",
     "output_type": "stream",
     "text": [
      "Kizzah is eating\n",
      "Kizzah is sleeping\n",
      "Kizzah is working\n"
     ]
    }
   ],
   "source": [
    "class Person:\n",
    "    def __init__(self, name, age, address) -> None:\n",
    "        self.name = name\n",
    "        self.age = age\n",
    "        self.address = address\n",
    "\n",
    "    def __str__(self) -> str:\n",
    "        return self.name, self.age, self.address\n",
    "\n",
    "    def eat(self) -> None:\n",
    "        print(f\"{self.name} is eating\")\n",
    "\n",
    "    def sleep(self) -> None:\n",
    "        print(f\"{self.name} is sleeping\")\n",
    "\n",
    "    def work(self) -> None:\n",
    "        print(f\"{self.name} is working\")\n",
    "\n",
    "\n",
    "kizzah = Person(\"Kizzah\", 58, \"kampala\")\n",
    "kizzah.eat()\n",
    "kizzah.sleep()\n",
    "kizzah.work()"
   ]
  },
  {
   "cell_type": "markdown",
   "metadata": {},
   "source": [
    "6. create a class called Employee. The class should have the following attributes: name, age, and salary. The class should have the following methods: eat, sleep, and work. The eat method should print out the name of the person and the word \"is eating\". The sleep method should print out the name of the person and the word \"is sleeping\". The work method should print out the name of the person and the word \"is working\". Create a subclass of Employee called Programmer. The Programmer class should have the following attributes: name, age, salary, and programming language. The Programmer class should have the following methods: eat, sleep, work, and code. The code method should print out the name of the person and the word \"is coding in\" and the programming language. Create an instance of the Programmer class and call all the methods.\n"
   ]
  },
  {
   "cell_type": "code",
   "execution_count": 8,
   "metadata": {},
   "outputs": [
    {
     "name": "stdout",
     "output_type": "stream",
     "text": [
      "kizzah is eating\n",
      "kizzah is sleeping\n",
      "kizzah is working\n",
      "kizzah is coding in Python\n"
     ]
    }
   ],
   "source": [
    "class Employee:\n",
    "\n",
    "    def __init__(self, name, age, salary):\n",
    "        self.name = name\n",
    "        self.age = age\n",
    "        self.salary = salary\n",
    "\n",
    "    def __str__(self) -> str:\n",
    "        return f\"{self.name}, {self.age}, {self.salary}\"\n",
    "\n",
    "    def eat(self) -> None:\n",
    "        print(f\"{self.name} is eating\")\n",
    "\n",
    "    def sleep(self) -> None:\n",
    "        print(f\"{self.name} is sleeping\")\n",
    "\n",
    "    def work(self) -> None:\n",
    "        print(f\"{self.name} is working\")\n",
    "\n",
    "class Programmer(Employee):\n",
    "\n",
    "    def __init__(self, name, age, salary, programming_language):\n",
    "        super().__init__(name, age, salary)\n",
    "        self.programming_language = programming_language\n",
    "\n",
    "    def __str__(self) -> str:\n",
    "        return super().__str__()\n",
    "\n",
    "    def code(self) -> None:\n",
    "        print(f\"{self.name} is coding in {self.programming_language}\")\n",
    "\n",
    "\n",
    "kizzah = Programmer(\"kizzah\", 56, 5000000, \"Python\")\n",
    "kizzah.eat()\n",
    "kizzah.sleep()\n",
    "kizzah.work()\n",
    "kizzah.code()"
   ]
  },
  {
   "cell_type": "markdown",
   "metadata": {},
   "source": [
    "7. create a class called Vehicle. The class should have the following attributes: make, model, and year. The class should have the following methods: start, stop, and drive. The start method should print out the make, model, and year of the vehicle and the word \"is starting\". The stop method should print out the make, model, and year of the vehicle and the word \"is stopping\". The drive method should print out the make, model, and year of the vehicle and the word \"is driving\". Create a subclass of Vehicle called Car. The Car class should have the following attributes: make, model, year, and color. The Car class should have the following methods: start, stop, drive, and park. The park method should print out the make, model, year, and color of the car and the word \"is parking\". Create an instance of the Car class and call all the methods.\n"
   ]
  },
  {
   "cell_type": "code",
   "execution_count": 9,
   "metadata": {},
   "outputs": [
    {
     "name": "stdout",
     "output_type": "stream",
     "text": [
      "Lamborghinni model Urus of 2020 is starting\n",
      "Lamborghinni model Urus of 2020 is driving\n",
      "Lamborghinni model Urus of 2020 which is yellow is parking\n",
      "Lamborghinni model Urus of 2020 is stopping\n"
     ]
    }
   ],
   "source": [
    "class Vehicle:\n",
    "\n",
    "    def __init__(self, make, model, year) -> None:\n",
    "        self.make = make\n",
    "        self.model = model\n",
    "        self.year = year\n",
    "\n",
    "    def __str__(self) -> str:\n",
    "        return \"make: {}, model: {}\".format(self.make, self.model)\n",
    "\n",
    "    def start(self) -> None:\n",
    "        print(f\"{self.make} model {self.model} of {self.year} is starting\")\n",
    "\n",
    "    def stop(self) -> None:\n",
    "        print(f\"{self.make} model {self.model} of {self.year} is stopping\")\n",
    "\n",
    "    def drive(self) -> None:\n",
    "        print(f\"{self.make} model {self.model} of {self.year} is driving\")\n",
    "\n",
    "class Car(Vehicle):\n",
    "\n",
    "    def __init__(self, make, model, year, color) -> None:\n",
    "        super().__init__(make, model, year)\n",
    "        self.color = color\n",
    "\n",
    "    def __repr__(self) -> str:\n",
    "        return f\"{self.make} model {self.model} of {self.year}\"\n",
    "\n",
    "    def park(self) -> None:\n",
    "        print(f\"{self.make} model {self.model} of {self.year} which is {self.color} is parking\")\n",
    "\n",
    "urus = Car(\"Lamborghinni\", \"Urus\",  2020, \"yellow\")\n",
    "\n",
    "urus.start()\n",
    "urus.drive()\n",
    "urus.park()\n",
    "urus.stop()"
   ]
  },
  {
   "cell_type": "markdown",
   "metadata": {},
   "source": [
    "8. create a class called Animal. The class should have the following attributes: name, color, and age. The class should have the following methods: eat, sleep, and make_sound. The eat method should print out the name of the animal and the word \"is eating\". The sleep method should print out the name of the animal and the word \"is sleeping\". The make_sound method should print out the name of the animal and the word \"is making a sound\". Create a subclass of Animal called Dog. The Dog class should have the following attributes: name, color, age, and breed. The Dog class should have the following methods: eat, sleep, make_sound, and bark. The bark method should print out the name of the dog and the word \"is barking\". Create an instance of the Dog class and call all the methods.\n"
   ]
  },
  {
   "cell_type": "code",
   "execution_count": 10,
   "metadata": {},
   "outputs": [
    {
     "name": "stdout",
     "output_type": "stream",
     "text": [
      "lucyis eating\n",
      "lucy is eating\n",
      "lucy is making a sound\n",
      "lucy is barking\n"
     ]
    }
   ],
   "source": [
    "class Animal:\n",
    "\n",
    "    def __init__(self, name, color, age) -> None:\n",
    "        self.name = name\n",
    "        self.color = color\n",
    "        self.age = age\n",
    "\n",
    "    def __str__(self) -> str:\n",
    "        return self.name + \" \" + self.color + \" \" + self.age\n",
    "\n",
    "    def eat(self) -> None:\n",
    "        print(f\"{self.name}is eating\")\n",
    "\n",
    "    def sleep(self) -> None:\n",
    "        print(f\"{self.name} is eating\")\n",
    "\n",
    "    def make_sound(self) -> None:\n",
    "        print(f\"{self.name} is making a sound\")\n",
    "\n",
    "    \n",
    "class Dog(Animal):\n",
    "\n",
    "    def __init__(self, name, color, age, breed, sound) -> None:\n",
    "        super().__init__(name, color, age)\n",
    "        self.breed = breed\n",
    "        self.sound = sound\n",
    "\n",
    "    def __str__(self) -> str:\n",
    "        return super().__str__()\n",
    "\n",
    "    def bark(self) -> None:\n",
    "        winsound.PlaySound(self.sound, winsound.SND_FILENAME)\n",
    "        print(f\"{self.name} is barking\")\n",
    "\n",
    "\n",
    "lucy = Dog(\"lucy\", \"brown\", 5, \"labrador\", \"bark\")\n",
    "lucy.eat()\n",
    "lucy.sleep()\n",
    "lucy.make_sound()\n",
    "lucy.bark()\n"
   ]
  },
  {
   "cell_type": "markdown",
   "metadata": {},
   "source": [
    "9. create a class of your choice. It should have at least 3 attributes and 3 methods where one of the methods is a static method. Implement polymorphism, encapsulation, and inheritance.\n"
   ]
  },
  {
   "cell_type": "code",
   "execution_count": 25,
   "metadata": {},
   "outputs": [
    {
     "name": "stdout",
     "output_type": "stream",
     "text": [
      "6603\n",
      "venus is not habitable\n"
     ]
    },
    {
     "ename": "AttributeError",
     "evalue": "'Planet' object has no attribute '__id'",
     "output_type": "error",
     "traceback": [
      "\u001b[1;31m---------------------------------------------------------------------------\u001b[0m",
      "\u001b[1;31mAttributeError\u001b[0m                            Traceback (most recent call last)",
      "\u001b[1;32mc:\\Users\\USER\\Desktop\\Data-structures-in-python\\assignment.ipynb Cell 19\u001b[0m in \u001b[0;36m<cell line: 62>\u001b[1;34m()\u001b[0m\n\u001b[0;32m     <a href='vscode-notebook-cell:/c%3A/Users/USER/Desktop/Data-structures-in-python/assignment.ipynb#X24sZmlsZQ%3D%3D?line=58'>59</a>\u001b[0m \u001b[39mprint\u001b[39m(venus\u001b[39m.\u001b[39mid())\n\u001b[0;32m     <a href='vscode-notebook-cell:/c%3A/Users/USER/Desktop/Data-structures-in-python/assignment.ipynb#X24sZmlsZQ%3D%3D?line=60'>61</a>\u001b[0m \u001b[39mprint\u001b[39m(venus\u001b[39m.\u001b[39misHabitable())\n\u001b[1;32m---> <a href='vscode-notebook-cell:/c%3A/Users/USER/Desktop/Data-structures-in-python/assignment.ipynb#X24sZmlsZQ%3D%3D?line=61'>62</a>\u001b[0m \u001b[39mprint\u001b[39m(venus\u001b[39m.\u001b[39;49m__id)\n",
      "\u001b[1;31mAttributeError\u001b[0m: 'Planet' object has no attribute '__id'"
     ]
    }
   ],
   "source": [
    "import turtle\n",
    "import winsound\n",
    "\n",
    "class CelestialBody:\n",
    "    bodyId = 6578\n",
    "    \n",
    "    @staticmethod\n",
    "    def visit():\n",
    "        print(f\"I'm going to visit a celestial body\")\n",
    "        \n",
    "    def __init__(self, name, type, dist_from_earth) -> None:\n",
    "        self.name = name\n",
    "        self.type = type\n",
    "        self.dist_from_earth = dist_from_earth\n",
    "        self.__id =  CelestialBody.bodyId + 25 #encapsulation\n",
    "\n",
    "    def __str__(self) -> str:\n",
    "        return f\"{self.name} {self.type} {self.dist_from_earth}\"\n",
    "\n",
    "    def __repr__(self) -> str:\n",
    "        return f\"{self.name} {self.type} {self.dist_from_earth}\"\n",
    "\n",
    "    def id(self) -> int:\n",
    "        return self.__id\n",
    "\n",
    "    def move(self) -> None:\n",
    "        turtle.circle(90)\n",
    "\n",
    "    def sound(self) -> None:\n",
    "        winsound.PlaySound(\"celestial\", winsound.SND_FILENAME)\n",
    "\n",
    "#inheritance\n",
    "\n",
    "class Planet(CelestialBody):\n",
    "\n",
    "    def __init__(self, name, type, dist_from_earth, habitable: bool, orbital_radius) -> None:\n",
    "        super().__init__(name, type, dist_from_earth)\n",
    "        self.habitable = habitable\n",
    "        self.orbital_radius = orbital_radius\n",
    "   \n",
    "\n",
    "    def __str__(self) -> str:\n",
    "        return super().__str__()\n",
    "\n",
    "    #polymorphism\n",
    "\n",
    "    def move(self) -> None:\n",
    "        turtle.shape(\"circle\")\n",
    "        turtle.shapesize(5,4,1)\n",
    "        turtle.fillcolor(\"white\")\n",
    "\n",
    "    def sound(self) -> None:\n",
    "        return super().sound()\n",
    "\n",
    "    def isHabitable(self) -> str:\n",
    "        if self.habitable:\n",
    "            return f\"{self.name} is habitable\"\n",
    "        return f\"{self.name} is not habitable\"\n",
    "\n",
    "venus = Planet(\"venus\",\"planet\", 45484763800000, 0, 7489367838)\n",
    "\n",
    "\n",
    "print(venus.id())\n",
    "\n",
    "print(venus.isHabitable())\n",
    "print(venus.__id)\n",
    "\n",
    "    "
   ]
  }
 ],
 "metadata": {
  "kernelspec": {
   "display_name": "Python 3.10.7 64-bit",
   "language": "python",
   "name": "python3"
  },
  "language_info": {
   "codemirror_mode": {
    "name": "ipython",
    "version": 3
   },
   "file_extension": ".py",
   "mimetype": "text/x-python",
   "name": "python",
   "nbconvert_exporter": "python",
   "pygments_lexer": "ipython3",
   "version": "3.10.7"
  },
  "orig_nbformat": 4,
  "vscode": {
   "interpreter": {
    "hash": "df95319d8ce4e1d89f5365ae10992bc1f65da593082b1d264e8f529830ec2f02"
   }
  }
 },
 "nbformat": 4,
 "nbformat_minor": 2
}
