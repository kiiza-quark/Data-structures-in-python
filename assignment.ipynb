{
 "cells": [
  {
   "cell_type": "markdown",
   "metadata": {},
   "source": [
    "# 10 questions about classes, objects, inheritance, polymorphism, queues, stacks, and more\n",
    "\n",
    "\n",
    "\n",
    "1. create a credit card class with the following attributes: card number, expiration date, and security code. Create a method that will print out the card number, expiration date, and security code. Create an instance of the class and call the method.\n",
    "\n",
    "2. create Animal class and Dog class. Make the Dog class inherit from the Animal class. Add a bark method to the Dog class. Create an instance of the Dog class and call the bark method.\n",
    "\n",
    "3. create a class called Queue. The class should have the following methods: enqueue, dequeue, and size. The enqueue method should add an item to the queue. The dequeue method should remove an item from the queue. The size method should return the size of the queue.\n",
    "\n",
    "4. create a class called Stack. The class should have the following methods: push, pop, and size. The push method should add an item to the stack. The pop method should remove an item from the stack. The size method should return the size of the stack.\n",
    "\n",
    "5. create a class called Person. The class should have the following attributes: name, age, and address. The class should have the following methods: eat, sleep, and work. The eat method should print out the name of the person and the word \"is eating\". The sleep method should print out the name of the person and the word \"is sleeping\". The work method should print out the name of the person and the word \"is working\".\n",
    "\n",
    "6. create a class called Employee. The class should have the following attributes: name, age, and salary. The class should have the following methods: eat, sleep, and work. The eat method should print out the name of the person and the word \"is eating\". The sleep method should print out the name of the person and the word \"is sleeping\". The work method should print out the name of the person and the word \"is working\". Create a subclass of Employee called Programmer. The Programmer class should have the following attributes: name, age, salary, and programming language. The Programmer class should have the following methods: eat, sleep, work, and code. The code method should print out the name of the person and the word \"is coding in\" and the programming language. Create an instance of the Programmer class and call all the methods.\n",
    "\n",
    "7. create a class called Vehicle. The class should have the following attributes: make, model, and year. The class should have the following methods: start, stop, and drive. The start method should print out the make, model, and year of the vehicle and the word \"is starting\". The stop method should print out the make, model, and year of the vehicle and the word \"is stopping\". The drive method should print out the make, model, and year of the vehicle and the word \"is driving\". Create a subclass of Vehicle called Car. The Car class should have the following attributes: make, model, year, and color. The Car class should have the following methods: start, stop, drive, and park. The park method should print out the make, model, year, and color of the car and the word \"is parking\". Create an instance of the Car class and call all the methods.\n",
    "\n",
    "8. create a class called Animal. The class should have the following attributes: name, color, and age. The class should have the following methods: eat, sleep, and make_sound. The eat method should print out the name of the animal and the word \"is eating\". The sleep method should print out the name of the animal and the word \"is sleeping\". The make_sound method should print out the name of the animal and the word \"is making a sound\". Create a subclass of Animal called Dog. The Dog class should have the following attributes: name, color, age, and breed. The Dog class should have the following methods: eat, sleep, make_sound, and bark. The bark method should print out the name of the dog and the word \"is barking\". Create an instance of the Dog class and call all the methods.\n",
    "\n",
    "9. create a class of your choice. It should have at least 3 attributes and 3 methods where one of the methods is a static method. Implement polymorphism, encapsulation, and inheritance.\n",
    "\n",
    "https://forms.gle/yjSCUSwJC1TKXueK8\n",
    "\n",
    "\n"
   ]
  },
  {
   "cell_type": "markdown",
   "metadata": {},
   "source": [
    "1. create a credit card class with the following attributes: card number, expiration date, and security code. Create a method that will print out the card number, expiration date, and security code. Create an instance of the class and call the method.\n"
   ]
  },
  {
   "cell_type": "code",
   "execution_count": 1,
   "metadata": {},
   "outputs": [
    {
     "name": "stdout",
     "output_type": "stream",
     "text": [
      "Card Number: 5588 8799 7877 4431\n",
      "Expiration date: 24/09/2023\n",
      "Security code: 678\n"
     ]
    }
   ],
   "source": [
    "class CreditCard:\n",
    "\n",
    "    def __init__(self, card_number: str, expiration_date: str, security_code: int) -> None:\n",
    "        self.card_number = card_number\n",
    "        self.expiration_date = expiration_date\n",
    "        self.security_code = security_code\n",
    "\n",
    "    def __repr__(self) -> str:\n",
    "        return f\"Card Number: {self.card_number}\\nExpiration date: {self.expiration_date}\\nSecurity code: {self.security_code}\"\n",
    "\n",
    "    def print_card(self) -> None:\n",
    "        print(f\"Card Number: {self.card_number}\\nExpiration date: {self.expiration_date}\\nSecurity code: {self.security_code}\")\n",
    "\n",
    "mastercard = CreditCard(\"5588 8799 7877 4431\", \"24/09/2023\", 678)\n",
    "mastercard.print_card()"
   ]
  },
  {
   "cell_type": "markdown",
   "metadata": {},
   "source": [
    "2. create Animal class and Dog class. Make the Dog class inherit from the Animal class. Add a bark method to the Dog class. Create an instance of the Dog class and call the bark method."
   ]
  },
  {
   "cell_type": "code",
   "execution_count": null,
   "metadata": {},
   "outputs": [],
   "source": [
    "import winsound\n",
    "\n",
    "class Animal:\n",
    "    def __init__(self, name):\n",
    "        self.name = name\n",
    "\n",
    "class Dog(Animal):\n",
    "    def __init__(self, name, age):\n",
    "        super().__init__(self, name)\n",
    "        self.age = age\n",
    "\n",
    "    def bark(self) -> None:\n",
    "        winsound.PlaySound(\"bark\", winsound.SND_FILENAME)\n",
    "\n",
    "german_shepherd = Dog(\"german-shepherd\", 6)\n",
    "german_shepherd.bark()"
   ]
  }
 ],
 "metadata": {
  "kernelspec": {
   "display_name": "Python 3.10.7 64-bit",
   "language": "python",
   "name": "python3"
  },
  "language_info": {
   "codemirror_mode": {
    "name": "ipython",
    "version": 3
   },
   "file_extension": ".py",
   "mimetype": "text/x-python",
   "name": "python",
   "nbconvert_exporter": "python",
   "pygments_lexer": "ipython3",
   "version": "3.10.7"
  },
  "orig_nbformat": 4,
  "vscode": {
   "interpreter": {
    "hash": "df95319d8ce4e1d89f5365ae10992bc1f65da593082b1d264e8f529830ec2f02"
   }
  }
 },
 "nbformat": 4,
 "nbformat_minor": 2
}
